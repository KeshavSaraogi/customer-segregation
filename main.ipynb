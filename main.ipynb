{
 "cells": [
  {
   "cell_type": "code",
   "execution_count": null,
   "metadata": {},
   "outputs": [],
   "source": [
    "# Import necessary libraries\n",
    "import pandas as pd\n",
    "import numpy as np\n",
    "import matplotlib.pyplot as plt\n",
    "import seaborn as sns\n",
    "from sklearn.preprocessing import StandardScaler, LabelEncoder\n",
    "from sklearn.mixture import GaussianMixture\n",
    "from sklearn.cluster import DBSCAN\n",
    "from sklearn.model_selection import train_test_split\n",
    "import xgboost as xgb\n",
    "from sklearn.metrics import classification_report, accuracy_score\n",
    "from sklearn.tree import plot_tree\n"
   ]
  },
  {
   "cell_type": "code",
   "execution_count": null,
   "metadata": {},
   "outputs": [],
   "source": [
    "# Step 1: Customer Segmentation\n",
    "\n",
    "large_data_path = '/Users/keshavsaraogi/data/e-commerce/ecommerce_customer_data_large.csv'\n",
    "ecommerce_data_large = pd.read_csv(large_data_path)\n",
    "\n",
    "segmentation_features = ecommerce_data_large[['Total Purchase Amount', 'Quantity', 'Customer Age']]\n",
    "segmentation_features = segmentation_features.fillna(segmentation_features.median())"
   ]
  },
  {
   "cell_type": "code",
   "execution_count": null,
   "metadata": {},
   "outputs": [],
   "source": [
    "scaler = StandardScaler()\n",
    "segmentation_features_scaled = scaler.fit_transform(segmentation_features)"
   ]
  },
  {
   "cell_type": "code",
   "execution_count": null,
   "metadata": {},
   "outputs": [],
   "source": [
    "gmm = GaussianMixture(n_components=3, random_state=42)\n",
    "gmm_labels = gmm.fit_predict(segmentation_features_scaled)\n",
    "ecommerce_data_large['GMM_Cluster'] = gmm_labels"
   ]
  },
  {
   "cell_type": "code",
   "execution_count": null,
   "metadata": {},
   "outputs": [],
   "source": [
    "dbscan = DBSCAN(eps=0.5, min_samples=5)\n",
    "dbscan_labels = dbscan.fit_predict(segmentation_features_scaled)\n",
    "ecommerce_data_large['DBSCAN_Cluster'] = dbscan_labels"
   ]
  },
  {
   "cell_type": "code",
   "execution_count": null,
   "metadata": {},
   "outputs": [],
   "source": [
    "ecommerce_data_large.to_csv('/Users/keshavsaraogi/data/e-commerce/ecommerce_customer_data_large_with_clusters.csv', index=False)"
   ]
  },
  {
   "cell_type": "code",
   "execution_count": null,
   "metadata": {},
   "outputs": [],
   "source": [
    "\n",
    "plt.figure(figsize=(10, 6))\n",
    "sns.scatterplot(data=ecommerce_data_large, x='Total Purchase Amount', y='Customer Age', hue='GMM_Cluster', palette='Set1', s=100, edgecolor='black')\n",
    "plt.title('GMM Clustering - Customer Segmentation')\n",
    "plt.xlabel('Total Purchase Amount')\n",
    "plt.ylabel('Customer Age')\n",
    "plt.legend(title='Cluster')\n",
    "plt.show()\n",
    "\n",
    "plt.figure(figsize=(10, 6))\n",
    "sns.scatterplot(data=ecommerce_data_large, x='Total Purchase Amount', y='Customer Age', hue='DBSCAN_Cluster', palette='viridis', s=100, edgecolor='black')\n",
    "plt.title('DBSCAN Clustering - Customer Segmentation')\n",
    "plt.xlabel('Total Purchase Amount')\n",
    "plt.ylabel('Customer Age')\n",
    "plt.legend(title='Cluster')\n",
    "plt.show()"
   ]
  },
  {
   "cell_type": "code",
   "execution_count": null,
   "metadata": {},
   "outputs": [],
   "source": [
    "# Step 2: Churn Prediction\n",
    "custom_ratios_path = '/Users/keshavsaraogi/data/e-commerce/ecommerce_customer_data_custom_ratios.csv'\n",
    "ecommerce_data_custom = pd.read_csv(custom_ratios_path)"
   ]
  },
  {
   "cell_type": "code",
   "execution_count": null,
   "metadata": {},
   "outputs": [],
   "source": [
    "categorical_features = ['Product Category', 'Payment Method', 'Gender']\n",
    "ecommerce_data_custom = ecommerce_data_custom.fillna({'Churn': 0})  # Replace missing churn values with 0"
   ]
  },
  {
   "cell_type": "code",
   "execution_count": null,
   "metadata": {},
   "outputs": [],
   "source": [
    "for col in categorical_features:\n",
    "    le = LabelEncoder()\n",
    "    ecommerce_data_custom[col] = le.fit_transform(ecommerce_data_custom[col].astype(str))"
   ]
  },
  {
   "cell_type": "code",
   "execution_count": null,
   "metadata": {},
   "outputs": [],
   "source": [
    "X = ecommerce_data_custom[['Total Purchase Amount', 'Quantity', 'Customer Age', 'Product Category', 'Payment Method', 'Gender']]\n",
    "y = ecommerce_data_custom['Churn']\n",
    "\n",
    "X_train, X_test, y_train, y_test = train_test_split(X, y, test_size=0.2, random_state=42)"
   ]
  },
  {
   "cell_type": "code",
   "execution_count": null,
   "metadata": {},
   "outputs": [],
   "source": [
    "xgb_model = xgb.XGBClassifier(random_state=42, use_label_encoder=False, eval_metric='logloss')\n",
    "xgb_model.fit(X_train, y_train)\n",
    "\n",
    "y_pred = xgb_model.predict(X_test)\n",
    "\n",
    "xgb_results = classification_report(y_test, y_pred)\n",
    "xgb_accuracy = accuracy_score(y_test, y_pred)\n",
    "\n",
    "evaluation_results = {\n",
    "    \"classification_report\": xgb_results,\n",
    "    \"accuracy\": xgb_accuracy\n",
    "}"
   ]
  },
  {
   "cell_type": "code",
   "execution_count": null,
   "metadata": {},
   "outputs": [],
   "source": [
    "with open('/Users/keshavsaraogi/data/e-commerce/churn_model_results.txt', 'w') as file:\n",
    "    file.write(f\"Classification Report:\\n{xgb_results}\\n\\nAccuracy: {xgb_accuracy:.4f}\")"
   ]
  },
  {
   "cell_type": "code",
   "execution_count": null,
   "metadata": {},
   "outputs": [],
   "source": [
    "plt.figure(figsize=(10, 6))\n",
    "xgb.plot_importance(xgb_model, importance_type='weight', max_num_features=10, height=0.5)\n",
    "plt.title('Feature Importance - Churn Prediction')\n",
    "plt.show()"
   ]
  },
  {
   "cell_type": "code",
   "execution_count": null,
   "metadata": {},
   "outputs": [],
   "source": [
    "from sklearn.metrics import confusion_matrix\n",
    "import seaborn as sns\n",
    "\n",
    "conf_matrix = confusion_matrix(y_test, y_pred)\n",
    "plt.figure(figsize=(8, 6))\n",
    "sns.heatmap(conf_matrix, annot=True, fmt='d', cmap='Blues', xticklabels=['No Churn', 'Churn'], yticklabels=['No Churn', 'Churn'])\n",
    "plt.title('Confusion Matrix - Churn Prediction')\n",
    "plt.xlabel('Predicted')\n",
    "plt.ylabel('True')\n",
    "plt.show()"
   ]
  },
  {
   "cell_type": "code",
   "execution_count": null,
   "metadata": {},
   "outputs": [],
   "source": [
    "xgb_model.save_model('/Users/keshavsaraogi/data/e-commerce/churn_prediction_model.xgb')"
   ]
  }
 ],
 "metadata": {
  "kernelspec": {
   "display_name": "base",
   "language": "python",
   "name": "python3"
  },
  "language_info": {
   "codemirror_mode": {
    "name": "ipython",
    "version": 3
   },
   "file_extension": ".py",
   "mimetype": "text/x-python",
   "name": "python",
   "nbconvert_exporter": "python",
   "pygments_lexer": "ipython3",
   "version": "3.11.8"
  }
 },
 "nbformat": 4,
 "nbformat_minor": 2
}
