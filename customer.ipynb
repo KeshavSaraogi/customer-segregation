{
 "cells": [
  {
   "cell_type": "code",
   "execution_count": null,
   "metadata": {},
   "outputs": [],
   "source": [
    "import pandas as pd\n",
    "\n",
    "data_custom_ratios = pd.read_csv('/Users/keshavsaraogi/data/e-commerce/ecommerce_customer_data_custom_ratios.csv')\n",
    "data_large = pd.read_csv('/Users/keshavsaraogi/data/e-commerce/ecommerce_customer_data_large.csv')"
   ]
  },
  {
   "cell_type": "code",
   "execution_count": null,
   "metadata": {},
   "outputs": [],
   "source": [
    "print(\"Custom Ratios Shape:\\n\", data_custom_ratios.shape)\n",
    "print(\"Custom Ratios Head:\\n\", data_custom_ratios.head())\n",
    "print(\"Custom Ratios Info:\\n\", data_custom_ratios.info())"
   ]
  },
  {
   "cell_type": "code",
   "execution_count": null,
   "metadata": {},
   "outputs": [],
   "source": [
    "print(\"Large Dataset Shape:\", data_large.shape)\n",
    "print(\"Large Dataset Head:\\n\", data_large.head())\n",
    "print(\"Custom Ratios Info:\\n\", data_large.info())"
   ]
  },
  {
   "cell_type": "code",
   "execution_count": null,
   "metadata": {},
   "outputs": [],
   "source": [
    "print(\"Missing Values in Custom Ratios Dataset:\\n\", data_custom_ratios.isnull().sum())\n",
    "print(\"Missing Values in Large Dataset:\\n\", data_large.isnull().sum())"
   ]
  },
  {
   "cell_type": "code",
   "execution_count": null,
   "metadata": {},
   "outputs": [],
   "source": [
    "# the empty returns signifies no returns, thus I am going ahead with 0 to ensure there are no returns made\n",
    "\n",
    "data_custom_ratios['Returns'] = data_custom_ratios['Returns'].fillna(0)\n",
    "data_large['Returns'] = data_large['Returns'].fillna(0)"
   ]
  }
 ],
 "metadata": {
  "kernelspec": {
   "display_name": "base",
   "language": "python",
   "name": "python3"
  },
  "language_info": {
   "codemirror_mode": {
    "name": "ipython",
    "version": 3
   },
   "file_extension": ".py",
   "mimetype": "text/x-python",
   "name": "python",
   "nbconvert_exporter": "python",
   "pygments_lexer": "ipython3",
   "version": "3.11.8"
  }
 },
 "nbformat": 4,
 "nbformat_minor": 2
}
