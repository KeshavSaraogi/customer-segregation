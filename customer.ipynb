{
 "cells": [
  {
   "cell_type": "code",
   "execution_count": null,
   "metadata": {},
   "outputs": [],
   "source": [
    "import pandas as pd\n",
    "import numpy as np\n",
    "from sklearn.preprocessing import StandardScaler\n",
    "from sklearn.cluster import KMeans\n",
    "from sklearn.metrics import silhouette_score, calinski_harabasz_score\n",
    "import matplotlib.pyplot as plt\n",
    "import seaborn as sns\n",
    "from datetime import datetime"
   ]
  },
  {
   "cell_type": "code",
   "execution_count": null,
   "metadata": {},
   "outputs": [],
   "source": [
    "data_custom_ratios = pd.read_csv('/Users/keshavsaraogi/data/e-commerce/ecommerce_customer_data_custom_ratios.csv')\n",
    "data_large = pd.read_csv('/Users/keshavsaraogi/data/e-commerce/ecommerce_customer_data_large.csv')"
   ]
  },
  {
   "cell_type": "code",
   "execution_count": null,
   "metadata": {},
   "outputs": [],
   "source": [
    "data_custom_ratios['Returns'] = data_custom_ratios['Returns'].fillna(0)\n",
    "data_large['Returns'] = data_large['Returns'].fillna(0)"
   ]
  },
  {
   "cell_type": "code",
   "execution_count": null,
   "metadata": {},
   "outputs": [],
   "source": [
    "def engineer_features(df):\n",
    "\n",
    "    customer_metrics = df.groupby('Customer ID').agg({\n",
    "        'Total Purchase Amount': ['mean', 'sum', 'count'],\n",
    "        'Returns': 'mean',\n",
    "        'Purchase Date': lambda x: (pd.to_datetime(x.max()) - pd.to_datetime(x.min())).days, \n",
    "        'Age': 'first',\n",
    "        'Gender': 'first'\n",
    "    })\n",
    "\n",
    "    customer_metrics.columns = [\"_\".join(col) for col in customer_metrics.columns] \n",
    "    customer_metrics.reset_index(inplace=True)\n",
    "    customer_metrics.columns = ['Customer ID', 'Avg_Purchase_Amount', 'Total_Purchase_Amount', 'Purchase_Frequency', 'Return_Rate', 'Purchase_Span_Days', 'Age', 'Gender']\n",
    "    customer_metrics['Gender'] = customer_metrics['Gender'].map({'Male': 0, 'Female': 1})\n",
    "    return customer_metrics\n",
    "\n",
    "customer_features = engineer_features(data_custom_ratios)"
   ]
  },
  {
   "cell_type": "code",
   "execution_count": null,
   "metadata": {},
   "outputs": [],
   "source": [
    "features_for_clustering = ['Avg_Purchase_Amount', 'Purchase_Frequency', 'Return_Rate', 'Purchase_Span_Days', 'Age', 'Gender']\n",
    "\n",
    "scaler = StandardScaler()\n",
    "scaled_features = scaler.fit_transform(customer_features[features_for_clustering])"
   ]
  },
  {
   "cell_type": "code",
   "execution_count": null,
   "metadata": {},
   "outputs": [],
   "source": [
    "max_clusters = 10\n",
    "inertias = []\n",
    "silhouette_scores = []\n",
    "\n",
    "for k in range(2, max_clusters + 1):\n",
    "    kmeans = KMeans(n_clusters=k, random_state=42, n_init=10)\n",
    "    kmeans.fit(scaled_features)\n",
    "    inertias.append(kmeans.inertia_)\n",
    "    silhouette_scores.append(silhouette_score(scaled_features, kmeans.labels_))"
   ]
  }
 ],
 "metadata": {
  "kernelspec": {
   "display_name": "base",
   "language": "python",
   "name": "python3"
  },
  "language_info": {
   "codemirror_mode": {
    "name": "ipython",
    "version": 3
   },
   "file_extension": ".py",
   "mimetype": "text/x-python",
   "name": "python",
   "nbconvert_exporter": "python",
   "pygments_lexer": "ipython3",
   "version": "3.11.8"
  }
 },
 "nbformat": 4,
 "nbformat_minor": 2
}
